{
 "cells": [
  {
   "cell_type": "code",
   "execution_count": 38,
   "metadata": {},
   "outputs": [],
   "source": [
    "from copy import deepcopy\n",
    "import json\n",
    "\n",
    "slot_meta = json.load(open(\"/opt/ml/input/data/train_dataset/slot_meta.json\"))\n",
    "ontology_file = json.load(open(\"/opt/ml/input/data/train_dataset/ontology.json\"))\n",
    "categorical_slots = [s for s in slot_meta if len(ontology_file[s]) <= 10]\n",
    "\n",
    "direction_types = [s for s in categorical_slots if s.endswith('지역')]\n",
    "date_types = [s for s in categorical_slots if s.endswith('요일')]\n",
    "\n",
    "def process_value(string):\n",
    "    domain, slot, value = string.split(\"-\")\n",
    "    slot_type = \"-\".join((domain, slot))\n",
    "\n",
    "    string = string.replace(' & ', '&')\n",
    "    string = string.replace(' = ', '=')\n",
    "\n",
    "    string = string.replace('분식 회개', '분식회개')\n",
    "    string = string.replace('회ne', '분식회개')\n",
    "    string = string.replace('-회개', '-분식회개')\n",
    "    \n",
    "    string = string.replace(\" ( \", \" (\")\n",
    "    string = string.replace(\" ) )\", \")\")\n",
    "    string = string.replace(\" )\", \")\")\n",
    "\n",
    "    if 'do' in string:\n",
    "        if slot_type in direction_types:\n",
    "            string = string.replace('do ', '서울 ')\n",
    "        else:\n",
    "            string = \"-\".join((slot_type, 'dontcare'))\n",
    "    \n",
    "    if slot_type in date_types:\n",
    "        if value not in ontology_file[slot_type]:\n",
    "            string = \"\"\n",
    "\n",
    "    if '식당' in string and '랑또' in string :\n",
    "        string = '식당-이름-사케랑또'\n",
    "    return string\n",
    "\n",
    "def process_predictions_csv(submission_csv_dir):\n",
    "    predictions = open(submission_csv_dir, 'r')\n",
    "    predictions = json.load(predictions)\n",
    "    new_predictions = deepcopy(predictions)\n",
    "    for k,v in predictions.items():\n",
    "        new_vals = []\n",
    "        for values in v:\n",
    "            new_val = process_value(values)\n",
    "            if new_val:\n",
    "                new_vals.append(new_val)\n",
    "        new_predictions[k] = new_vals\n",
    "    return new_predictions"
   ]
  },
  {
   "cell_type": "markdown",
   "metadata": {},
   "source": [
    "# ##file_name 바꾸셈!! (바꾸고 싶은 submission csv 파일의 경로이름)"
   ]
  },
  {
   "cell_type": "code",
   "execution_count": 35,
   "metadata": {},
   "outputs": [],
   "source": [
    "################################################################\n",
    "file_path = '/opt/ml/code/prediction/kfold'\n",
    "file_name = 'kfold-pseudo-soft-ensemble.csv'\n",
    "################################################################\n",
    "\n",
    "new_predictions = process_predictions_csv(os.path.join(file_path, file_name))"
   ]
  },
  {
   "cell_type": "markdown",
   "metadata": {},
   "source": [
    "# ##새로 저장할 csv파일의 이름 정하세요!!! (new_file_name)"
   ]
  },
  {
   "cell_type": "code",
   "execution_count": 37,
   "metadata": {},
   "outputs": [],
   "source": [
    "import os\n",
    "new_folder = '/opt/ml/new_processed_submission'\n",
    "os.makedirs(new_folder,exist_ok=True)\n",
    "#########################################################\n",
    "new_file_name = f\"my-processed_kfold-pseudo-soft-ensemble.csv\"\n",
    "#########################################################\n",
    "\n",
    "new_saved_file_name = f'{new_folder}/{new_file_name}'\n",
    "json.dump(new_predictions, open(new_saved_file_name, 'w'), indent=2, ensure_ascii=False) "
   ]
  },
  {
   "cell_type": "code",
   "execution_count": 21,
   "metadata": {},
   "outputs": [],
   "source": [
    "slot_meta = json.load(open(\"/opt/ml/input/data/train_dataset/slot_meta.json\"))\n",
    "ontology_file = json.load(open(\"/opt/ml/input/data/train_dataset/ontology.json\"))\n",
    "def check_categorical(did, categorical_slots, slot_type, value):\n",
    "    if slot_type in categorical_slots:\n",
    "        if value not in ontology_file[slot_type]:\n",
    "            print(did, slot_type, value)\n",
    "    "
   ]
  },
  {
   "cell_type": "code",
   "execution_count": 8,
   "metadata": {},
   "outputs": [],
   "source": [
    "slot_meta = json.load(open(\"/opt/ml/input/data/train_dataset/slot_meta.json\"))\n",
    "ontology_file = json.load(open(\"/opt/ml/input/data/train_dataset/ontology.json\"))"
   ]
  },
  {
   "cell_type": "code",
   "execution_count": 9,
   "metadata": {},
   "outputs": [],
   "source": [
    "categorical_slots = []\n",
    "for s in slot_meta:\n",
    "    if len(ontology_file[s]) < 15:\n",
    "        categorical_slots.append(s)\n"
   ]
  },
  {
   "cell_type": "code",
   "execution_count": 10,
   "metadata": {},
   "outputs": [
    {
     "output_type": "execute_result",
     "data": {
      "text/plain": [
       "['관광-경치 좋은',\n",
       " '관광-교육적',\n",
       " '관광-도보 가능',\n",
       " '관광-문화 예술',\n",
       " '관광-역사적',\n",
       " '관광-종류',\n",
       " '관광-주차 가능',\n",
       " '관광-지역',\n",
       " '숙소-가격대',\n",
       " '숙소-도보 가능',\n",
       " '숙소-수영장 유무',\n",
       " '숙소-스파 유무',\n",
       " '숙소-예약 기간',\n",
       " '숙소-예약 명수',\n",
       " '숙소-예약 요일',\n",
       " '숙소-인터넷 가능',\n",
       " '숙소-조식 가능',\n",
       " '숙소-종류',\n",
       " '숙소-주차 가능',\n",
       " '숙소-지역',\n",
       " '숙소-헬스장 유무',\n",
       " '숙소-흡연 가능',\n",
       " '식당-가격대',\n",
       " '식당-도보 가능',\n",
       " '식당-야외석 유무',\n",
       " '식당-예약 명수',\n",
       " '식당-예약 요일',\n",
       " '식당-인터넷 가능',\n",
       " '식당-종류',\n",
       " '식당-주류 판매',\n",
       " '식당-주차 가능',\n",
       " '식당-지역',\n",
       " '식당-흡연 가능',\n",
       " '지하철-출발 시간',\n",
       " '택시-종류']"
      ]
     },
     "metadata": {},
     "execution_count": 10
    }
   ],
   "source": [
    "categorical_slots"
   ]
  },
  {
   "cell_type": "code",
   "execution_count": 24,
   "metadata": {},
   "outputs": [
    {
     "output_type": "stream",
     "name": "stdout",
     "text": [
      "관광-지역\n숙소-지역\n식당-지역\n"
     ]
    }
   ],
   "source": [
    "for slot in categorical_slots:\n",
    "    if slot.endswith('지역'):\n",
    "        print(slot)"
   ]
  },
  {
   "cell_type": "code",
   "execution_count": 23,
   "metadata": {},
   "outputs": [
    {
     "output_type": "execute_result",
     "data": {
      "text/plain": [
       "['none',\n",
       " 'dontcare',\n",
       " '13:30',\n",
       " '13:10',\n",
       " '12:40',\n",
       " '12:30',\n",
       " '12:00',\n",
       " '12:20',\n",
       " '12:50',\n",
       " '13:40',\n",
       " '12:10',\n",
       " '13:20']"
      ]
     },
     "metadata": {},
     "execution_count": 23
    }
   ],
   "source": [
    "ontology_file['지하철-출발 시간']"
   ]
  },
  {
   "cell_type": "code",
   "execution_count": 22,
   "metadata": {},
   "outputs": [
    {
     "output_type": "stream",
     "name": "stdout",
     "text": [
      "orange-dream-2065:관광_숙소_식당_11-13 관광-종류 dont\n",
      "late-band-0535:식당_관광_숙소_9-3 식당-예약 요일 6\n",
      "late-band-0535:식당_관광_숙소_9-4 식당-예약 요일 6\n",
      "late-band-0535:식당_관광_숙소_9-5 식당-예약 요일 6\n",
      "late-band-0535:식당_관광_숙소_9-6 식당-예약 요일 6\n",
      "late-band-0535:식당_관광_숙소_9-7 식당-예약 요일 6\n",
      "late-band-0535:식당_관광_숙소_9-8 식당-예약 요일 6\n",
      "late-band-0535:식당_관광_숙소_9-9 식당-예약 요일 6\n",
      "late-band-0535:식당_관광_숙소_9-10 식당-예약 요일 6\n",
      "blue-firefly-5738:식당_관광_택시_12-2 식당-예약 요일 09\n",
      "blue-firefly-5738:식당_관광_택시_12-4 식당-예약 요일 09\n",
      "blue-firefly-5738:식당_관광_택시_12-5 식당-예약 요일 09\n",
      "royal-grass-5366:식당_관광_택시_13-1 식당-종류 dont\n",
      "gentle-dream-4724:식당_관광_지하철_12-3 식당-예약 요일 06\n",
      "gentle-dream-4724:식당_관광_지하철_12-4 식당-예약 요일 06\n",
      "gentle-dream-4724:식당_관광_지하철_12-5 식당-예약 요일 06\n",
      "gentle-dream-4724:식당_관광_지하철_12-6 식당-예약 요일 06\n",
      "gentle-dream-4724:식당_관광_지하철_12-7 식당-예약 요일 06\n",
      "sparkling-hall-3405:숙소_식당_관광_13-6 식당-예약 요일 9\n",
      "sparkling-hall-3405:숙소_식당_관광_13-7 식당-예약 요일 9\n",
      "sparkling-hall-3405:숙소_식당_관광_13-8 식당-예약 요일 9\n",
      "solitary-cloud-8904:식당_숙소_택시_13-6 숙소-지역 do 서쪽\n",
      "solitary-cloud-8904:식당_숙소_택시_13-7 숙소-지역 do 서쪽\n",
      "solitary-cloud-8904:식당_숙소_택시_13-8 숙소-지역 do 서쪽\n",
      "sparkling-frog-9287:숙소_관광_택시_14-4 관광-종류 dont\n",
      "sparkling-frog-9287:숙소_관광_택시_14-5 관광-종류 dont\n",
      "sparkling-frog-9287:숙소_관광_택시_14-6 관광-종류 dont\n",
      "sweet-king-0967:숙소_관광_12-4 관광-종류 백화점\n",
      "sweet-king-0967:숙소_관광_12-5 관광-종류 no\n",
      "small-cake-0338:숙소_관광_택시_13-9 관광-지역 서울 중앙care\n",
      "shiny-night-3616:숙소_관광_식당_14-6 식당-예약 명수 ##9\n",
      "shiny-night-3616:숙소_관광_식당_14-7 식당-예약 명수 ##9\n",
      "wispy-hall-0315:숙소_지하철_관광_CF2_175-2 지하철-출발 시간 14:15\n",
      "wispy-hall-0315:숙소_지하철_관광_CF2_175-3 지하철-출발 시간 14:15\n",
      "wispy-hall-0315:숙소_지하철_관광_CF2_175-4 지하철-출발 시간 14:15\n",
      "wispy-hall-0315:숙소_지하철_관광_CF2_175-5 지하철-출발 시간 14:15\n",
      "wispy-hall-0315:숙소_지하철_관광_CF2_175-6 지하철-출발 시간 14:15\n",
      "weathered-breeze-0698:숙소_식당_관광_12-1 숙소-종류 에버이네집\n",
      "weathered-breeze-0698:숙소_식당_관광_12-2 숙소-종류 에버비엔비\n",
      "spring-waterfall-2789:숙소_CF1_87-5 숙소-예약 요일 1\n",
      "spring-waterfall-2789:숙소_CF1_87-6 숙소-예약 요일 1\n",
      "silent-darkness-0449:식당_숙소_지하철_11-4 식당-예약 요일 no\n",
      "silent-darkness-0449:식당_숙소_지하철_11-5 식당-예약 요일 09\n",
      "small-bush-9829:식당_숙소_택시_13-4 식당-예약 요일 no\n",
      "round-pine-2699:지하철_숙소_관광_CF1_6-4 숙소-지역 do 동쪽\n",
      "round-pine-2699:지하철_숙소_관광_CF1_6-5 숙소-지역 do 동쪽\n",
      "round-pine-2699:지하철_숙소_관광_CF1_6-6 숙소-지역 do 동쪽\n",
      "steep-mode-5634:식당_관광_지하철_CF2_203-5 지하철-출발 시간 14:50\n",
      "steep-mode-5634:식당_관광_지하철_CF2_203-6 지하철-출발 시간 14:40\n",
      "silent-king-4351:식당_숙소_택시_CF2_185-0 식당-예약 요일 no\n",
      "silent-king-4351:식당_숙소_택시_CF2_185-1 식당-예약 요일 02\n",
      "silent-king-4351:식당_숙소_택시_CF2_185-3 식당-예약 요일 02\n",
      "silent-king-4351:식당_숙소_택시_CF2_185-4 식당-예약 요일 02\n",
      "sweet-forest-7296:식당_CF2_202-0 관광-종류 동\n",
      "winter-resonance-0765:식당_관광_지하철_CF2_203-7 지하철-출발 시간 14:40\n",
      "winter-resonance-0765:식당_관광_지하철_CF2_203-8 지하철-출발 시간 14:40\n",
      "winter-resonance-0765:식당_관광_지하철_CF2_203-9 지하철-출발 시간 14:40\n",
      "autumn-darkness-3775:식당_숙소_관광_20-4 숙소-종류 do\n",
      "autumn-darkness-3775:식당_숙소_관광_20-5 숙소-종류 do\n",
      "fragrant-wave-6202:식당_관광_숙소_12-2 식당-예약 요일 03\n",
      "fragrant-wave-6202:식당_관광_숙소_12-3 식당-예약 요일 03\n",
      "proud-shadow-0564:숙소_지하철_관광_CF2_175-3 지하철-출발 시간 19:30\n",
      "proud-shadow-0564:숙소_지하철_관광_CF2_175-4 지하철-출발 시간 19:30\n",
      "proud-shadow-0564:숙소_지하철_관광_CF2_175-5 지하철-출발 시간 19:30\n",
      "proud-shadow-0564:숙소_지하철_관광_CF2_175-6 지하철-출발 시간 19:30\n",
      "proud-shadow-0564:숙소_지하철_관광_CF2_175-7 지하철-출발 시간 19:30\n",
      "proud-shadow-0564:숙소_지하철_관광_CF2_175-8 지하철-출발 시간 19:30\n",
      "throbbing-butterfly-3297:숙소_식당_관광_13-6 숙소-지역 서울 북\n",
      "green-cloud-8118:관광_숙소_식당_9-7 숙소-지역 do 서쪽\n",
      "green-cloud-8118:관광_숙소_식당_9-8 숙소-지역 do 서쪽\n",
      "green-cloud-8118:관광_숙소_식당_9-9 숙소-지역 do 서쪽\n",
      "withered-cloud-8218:숙소_관광_식당_15-2 관광-종류 no\n",
      "withered-cloud-8218:숙소_관광_식당_15-4 관광-종류 no\n",
      "withered-cloud-8218:숙소_관광_식당_15-5 관광-종류 no\n",
      "withered-cloud-8218:숙소_관광_식당_15-7 관광-종류 no\n",
      "withered-cloud-8218:숙소_관광_식당_15-8 관광-종류 no\n",
      "silent-paper-9948:숙소_식당_택시_11-7 식당-종류 베어집\n",
      "cool-wildflower-5193:숙소_지하철_관광_CF2_175-2 지하철-출발 시간 16 :\n",
      "cool-wildflower-5193:숙소_지하철_관광_CF2_175-3 지하철-출발 시간 16 :\n",
      "cool-wildflower-5193:숙소_지하철_관광_CF2_175-4 지하철-출발 시간 16:00\n",
      "cool-wildflower-5193:숙소_지하철_관광_CF2_175-5 지하철-출발 시간 16:00\n",
      "cool-wildflower-5193:숙소_지하철_관광_CF2_175-6 지하철-출발 시간 16:00\n",
      "mute-hat-4779:식당_관광_지하철_CF2_203-5 지하철-출발 시간 14:00\n",
      "mute-hat-4779:식당_관광_지하철_CF2_203-6 지하철-출발 시간 14:00\n",
      "raspy-thunder-7066:숙소_식당_관광_15-4 식당-예약 명수 12\n",
      "wild-dawn-0693:식당_관광_지하철_CF2_203-4 지하철-출발 시간 14:50\n",
      "wild-dawn-0693:식당_관광_지하철_CF2_203-5 지하철-출발 시간 14:50\n"
     ]
    },
    {
     "output_type": "error",
     "ename": "SyntaxError",
     "evalue": "'return' outside function (<ipython-input-22-83eb94008761>, line 13)",
     "traceback": [
      "\u001b[0;36m  File \u001b[0;32m\"<ipython-input-22-83eb94008761>\"\u001b[0;36m, line \u001b[0;32m13\u001b[0m\n\u001b[0;31m    return new_predictions\u001b[0m\n\u001b[0m                          ^\u001b[0m\n\u001b[0;31mSyntaxError\u001b[0m\u001b[0;31m:\u001b[0m 'return' outside function\n"
     ]
    }
   ],
   "source": [
    "from copy import deepcopy\n",
    "import json\n",
    "\n",
    "predictions = json.load(open(os.path.join(file_path, file_name)))\n",
    "new_predictions = deepcopy(predictions)\n",
    "for k,v in predictions.items():\n",
    "    new_value = []\n",
    "    for values in v:\n",
    "        splited_value = values.split('-')\n",
    "        check_categorical(k, categorical_slots, \"-\".join((splited_value[0], splited_value[1])), splited_value[2])\n",
    "        new_value.append('-'.join(splited_value))\n",
    "    new_predictions[k] = new_value"
   ]
  },
  {
   "cell_type": "code",
   "execution_count": 40,
   "metadata": {},
   "outputs": [
    {
     "output_type": "stream",
     "name": "stdout",
     "text": [
      "late-band-0535:식당_관광_숙소_9-3 식당-예약 요일 6\nlate-band-0535:식당_관광_숙소_9-4 식당-예약 요일 6\nlate-band-0535:식당_관광_숙소_9-5 식당-예약 요일 6\nlate-band-0535:식당_관광_숙소_9-6 식당-예약 요일 6\nlate-band-0535:식당_관광_숙소_9-7 식당-예약 요일 6\nlate-band-0535:식당_관광_숙소_9-8 식당-예약 요일 6\nlate-band-0535:식당_관광_숙소_9-9 식당-예약 요일 6\nlate-band-0535:식당_관광_숙소_9-10 식당-예약 요일 6\nblue-firefly-5738:식당_관광_택시_12-2 식당-예약 요일 09\nblue-firefly-5738:식당_관광_택시_12-4 식당-예약 요일 09\nblue-firefly-5738:식당_관광_택시_12-5 식당-예약 요일 09\nroyal-grass-5366:식당_관광_택시_13-1 식당-종류 dont\ngentle-dream-4724:식당_관광_지하철_12-3 식당-예약 요일 06\ngentle-dream-4724:식당_관광_지하철_12-4 식당-예약 요일 06\ngentle-dream-4724:식당_관광_지하철_12-5 식당-예약 요일 06\ngentle-dream-4724:식당_관광_지하철_12-6 식당-예약 요일 06\ngentle-dream-4724:식당_관광_지하철_12-7 식당-예약 요일 06\nsparkling-hall-3405:숙소_식당_관광_13-6 식당-예약 요일 9\nsparkling-hall-3405:숙소_식당_관광_13-7 식당-예약 요일 9\nsparkling-hall-3405:숙소_식당_관광_13-8 식당-예약 요일 9\nsolitary-cloud-8904:식당_숙소_택시_13-6 숙소-지역 서울서쪽\nsolitary-cloud-8904:식당_숙소_택시_13-7 숙소-지역 서울서쪽\nsolitary-cloud-8904:식당_숙소_택시_13-8 숙소-지역 서울서쪽\nsmall-cake-0338:숙소_관광_택시_13-9 관광-지역 서울 중앙care\nweathered-breeze-0698:숙소_식당_관광_12-1 숙소-종류 에버이네집\nweathered-breeze-0698:숙소_식당_관광_12-2 숙소-종류 에버비엔비\nspring-waterfall-2789:숙소_CF1_87-5 숙소-예약 요일 1\nspring-waterfall-2789:숙소_CF1_87-6 숙소-예약 요일 1\nsilent-darkness-0449:식당_숙소_지하철_11-4 식당-예약 요일 no\nsilent-darkness-0449:식당_숙소_지하철_11-5 식당-예약 요일 09\nsmall-bush-9829:식당_숙소_택시_13-4 식당-예약 요일 no\nround-pine-2699:지하철_숙소_관광_CF1_6-4 숙소-지역 서울동쪽\nround-pine-2699:지하철_숙소_관광_CF1_6-5 숙소-지역 서울동쪽\nround-pine-2699:지하철_숙소_관광_CF1_6-6 숙소-지역 서울동쪽\nsilent-king-4351:식당_숙소_택시_CF2_185-0 식당-예약 요일 no\nsilent-king-4351:식당_숙소_택시_CF2_185-1 식당-예약 요일 02\nsilent-king-4351:식당_숙소_택시_CF2_185-3 식당-예약 요일 02\nsilent-king-4351:식당_숙소_택시_CF2_185-4 식당-예약 요일 02\nautumn-darkness-3775:식당_숙소_관광_20-4 숙소-종류 do\nautumn-darkness-3775:식당_숙소_관광_20-5 숙소-종류 do\nfragrant-wave-6202:식당_관광_숙소_12-2 식당-예약 요일 03\nfragrant-wave-6202:식당_관광_숙소_12-3 식당-예약 요일 03\nthrobbing-butterfly-3297:숙소_식당_관광_13-6 숙소-지역 서울 북\ngreen-cloud-8118:관광_숙소_식당_9-7 숙소-지역 서울서쪽\ngreen-cloud-8118:관광_숙소_식당_9-8 숙소-지역 서울서쪽\ngreen-cloud-8118:관광_숙소_식당_9-9 숙소-지역 서울서쪽\nsilent-paper-9948:숙소_식당_택시_11-7 식당-종류 베어집\n"
     ]
    }
   ],
   "source": [
    "from copy import deepcopy\n",
    "import json\n",
    "\n",
    "new_folder = '/opt/ml/new_processed_submission'\n",
    "new_file_name = f\"processed_kfold-pseudo-soft-ensemble.csv\"\n",
    "\n",
    "predictions = json.load(open(os.path.join(new_folder, new_file_name)))\n",
    "new_predictions = deepcopy(predictions)\n",
    "for k,v in predictions.items():\n",
    "    new_value = []\n",
    "    for values in v:\n",
    "        splited_value = values.split('-')\n",
    "        check_categorical(k, categorical_slots, \"-\".join((splited_value[0], splited_value[1])), splited_value[2])\n",
    "        new_value.append('-'.join(splited_value))\n",
    "    new_predictions[k] = new_value"
   ]
  },
  {
   "cell_type": "code",
   "execution_count": 39,
   "metadata": {},
   "outputs": [
    {
     "output_type": "stream",
     "name": "stdout",
     "text": [
      "small-cake-0338:숙소_관광_택시_13-9 관광-지역 서울 중앙care\nweathered-breeze-0698:숙소_식당_관광_12-1 숙소-종류 에버이네집\nweathered-breeze-0698:숙소_식당_관광_12-2 숙소-종류 에버비엔비\nthrobbing-butterfly-3297:숙소_식당_관광_13-6 숙소-지역 서울 북\nsilent-paper-9948:숙소_식당_택시_11-7 식당-종류 베어집\n"
     ]
    }
   ],
   "source": [
    "from copy import deepcopy\n",
    "import json\n",
    "\n",
    "new_folder = '/opt/ml/new_processed_submission'\n",
    "os.makedirs(new_folder,exist_ok=True)\n",
    "new_file_name = f\"my-processed_kfold-pseudo-soft-ensemble.csv\"\n",
    "\n",
    "predictions = json.load(open(os.path.join(new_folder, new_file_name)))\n",
    "new_predictions = deepcopy(predictions)\n",
    "for k,v in predictions.items():\n",
    "    new_value = []\n",
    "    for values in v:\n",
    "        splited_value = values.split('-')\n",
    "        check_categorical(k, categorical_slots, \"-\".join((splited_value[0], splited_value[1])), splited_value[2])\n",
    "        new_value.append('-'.join(splited_value))\n",
    "    new_predictions[k] = new_value"
   ]
  },
  {
   "cell_type": "code",
   "execution_count": null,
   "metadata": {},
   "outputs": [],
   "source": []
  }
 ],
 "metadata": {
  "kernelspec": {
   "display_name": "Python 3",
   "name": "python3",
   "language": "python"
  },
  "language_info": {
   "codemirror_mode": {
    "name": "ipython",
    "version": 3
   },
   "file_extension": ".py",
   "mimetype": "text/x-python",
   "name": "python",
   "nbconvert_exporter": "python",
   "pygments_lexer": "ipython3",
   "version": "3.6.9"
  },
  "orig_nbformat": 2
 },
 "nbformat": 4,
 "nbformat_minor": 2
}