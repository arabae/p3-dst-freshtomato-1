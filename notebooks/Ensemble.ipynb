{
 "cells": [
  {
   "cell_type": "code",
   "execution_count": 16,
   "metadata": {},
   "outputs": [],
   "source": [
    "import os\n",
    "import sys\n",
    "from copy import deepcopy\n",
    "from glob import glob\n",
    "from tqdm import tqdm\n",
    "\n",
    "import pandas as pd\n",
    "import numpy as np\n",
    "import json"
   ]
  },
  {
   "cell_type": "code",
   "execution_count": 17,
   "metadata": {},
   "outputs": [],
   "source": [
    "def save_json(path: str, f: object) -> None:\n",
    "    with open(path, \"w\", encoding='utf-8') as json_path:\n",
    "        json.dump(\n",
    "            f,\n",
    "            json_path,\n",
    "            indent=2,\n",
    "            ensure_ascii=False\n",
    "        )\n",
    "        \n",
    "def load_json(path: str) -> dict:\n",
    "    with open(path, \"r\", encoding=\"utf-8\") as json_file:\n",
    "        output = json.load(json_file)\n",
    "    return output\n",
    "\n",
    "def get_label_table(slot_meta):\n",
    "    inference_table = {s:[] for s in slot_meta}\n",
    "    return inference_table\n",
    "\n",
    "def convert_state_dict(state: list) -> dict: # [도메인-슬릇-밸류] -> {도메인-슬릇: 밸류}\n",
    "    state_dict = dict()\n",
    "    for s in state:\n",
    "        dom, slot, val = s.split('-')\n",
    "        dom_slot = '-'.join([dom, slot])\n",
    "        state_dict[dom_slot] = val\n",
    "    return state_dict"
   ]
  },
  {
   "cell_type": "code",
   "execution_count": 18,
   "metadata": {},
   "outputs": [],
   "source": [
    "FOLD_DIR = '../output'\n",
    "SLOT_META_PATH = '../input/data/train_dataset/slot_meta.json'\n",
    "slot_meta = load_json(SLOT_META_PATH)\n",
    "\n",
    "fold_outputs = []\n",
    "'''\n",
    "for fpath in range(1, 6):\n",
    "    fold_outputs.append(load_json(f\"{FOLD_DIR}/kfold-{fpath}-predictions.csv\"))\n",
    "'''\n",
    "\n",
    "for i in [1, 2, 3, 4, 5]:\n",
    "    fold_outputs.append(load_json(f\"{FOLD_DIR}/new_processed_kfold_{i}-predictions.csv\"))\n",
    "for i in [1, 3]:\n",
    "    fold_outputs.append(load_json(f\"{FOLD_DIR}/new_processed_kfold_{i}-coco-predictions.csv\"))\n",
    "dialogue_ids = list(fold_outputs[0].keys())"
   ]
  },
  {
   "cell_type": "code",
   "execution_count": 19,
   "metadata": {},
   "outputs": [
    {
     "name": "stderr",
     "output_type": "stream",
     "text": [
      "100%|██████████| 14771/14771 [00:06<00:00, 2193.67it/s]\n"
     ]
    }
   ],
   "source": [
    "# inference\n",
    "output_dict = dict()\n",
    "\n",
    "for name in tqdm(dialogue_ids):\n",
    "    label_table = get_label_table(slot_meta)\n",
    "    for fold in fold_outputs:\n",
    "        pred_dict = convert_state_dict(fold[name])\n",
    "\n",
    "        for dom_slot in slot_meta:\n",
    "            pred_val = pred_dict.get(dom_slot, 'none')\n",
    "            label_table[dom_slot].append(pred_val)\n",
    "    output_dict[name] = deepcopy(label_table)"
   ]
  },
  {
   "cell_type": "code",
   "execution_count": 20,
   "metadata": {},
   "outputs": [
    {
     "name": "stderr",
     "output_type": "stream",
     "text": [
      "100%|██████████| 14771/14771 [05:52<00:00, 41.95it/s]\n"
     ]
    }
   ],
   "source": [
    "# hard voting\n",
    "output_hardvoted = dict()\n",
    "\n",
    "for name in tqdm(dialogue_ids):\n",
    "    hard_voted_outputs = []\n",
    "    for dom_slot in slot_meta:\n",
    "        hard_voted_val = (\n",
    "            pd.Series(output_dict[name][dom_slot])\n",
    "            .value_counts(ascending=False)\n",
    "            .index[0]\n",
    "            )\n",
    "\n",
    "        if hard_voted_val != 'none':\n",
    "            dom_slot_val = '-'.join([dom_slot, hard_voted_val])\n",
    "            hard_voted_outputs.append(dom_slot_val)\n",
    "    \n",
    "    output_hardvoted[name] = deepcopy(hard_voted_outputs)"
   ]
  },
  {
   "cell_type": "code",
   "execution_count": 21,
   "metadata": {},
   "outputs": [],
   "source": [
    "save_json('../output/normal5-minimal2-ensemble.csv', output_hardvoted)"
   ]
  },
  {
   "cell_type": "code",
   "execution_count": null,
   "metadata": {},
   "outputs": [],
   "source": []
  }
 ],
 "metadata": {
  "kernelspec": {
   "display_name": "Python 3",
   "language": "python",
   "name": "python3"
  },
  "language_info": {
   "codemirror_mode": {
    "name": "ipython",
    "version": 3
   },
   "file_extension": ".py",
   "mimetype": "text/x-python",
   "name": "python",
   "nbconvert_exporter": "python",
   "pygments_lexer": "ipython3",
   "version": "3.7.7"
  }
 },
 "nbformat": 4,
 "nbformat_minor": 4
}
